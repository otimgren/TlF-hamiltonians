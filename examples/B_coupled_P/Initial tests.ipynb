{
 "cells": [
  {
   "cell_type": "markdown",
   "id": "fba2fefb-c6f3-4454-9de8-455daf58f575",
   "metadata": {},
   "source": [
    "# Initial tests\n",
    "Testing the code for the B-state Hamiltonian in the uncoupled basis."
   ]
  },
  {
   "cell_type": "markdown",
   "id": "7c6d2d9e-f291-45f3-b3ec-befedbdc865b",
   "metadata": {},
   "source": [
    "## Import packages"
   ]
  },
  {
   "cell_type": "code",
   "execution_count": 28,
   "id": "9125eba7-7bc0-4089-b04d-4a6123b3fc63",
   "metadata": {},
   "outputs": [
    {
     "name": "stdout",
     "output_type": "stream",
     "text": [
      "The autoreload extension is already loaded. To reload it, use:\n",
      "  %reload_ext autoreload\n"
     ]
    }
   ],
   "source": [
    "%load_ext autoreload\n",
    "%autoreload 2\n",
    "\n",
    "import numpy as np\n",
    "\n",
    "from centrex_TlF import CoupledBasisState, UncoupledBasisState\n",
    "from centrex_TlF.hamiltonian.utils import threej_f\n",
    "from centrex_TlF.states.utils import matrix_to_states, find_state_idx_from_state\n",
    "from centrex_TlF.constants import constants_B as cst_B\n",
    "from TlF_hamiltonians.B_coupled_P import H_c1p, H_mhf_F, H_mhf_Tl, H_q, Hc1, Hrot, HSx, HSy, HSz, HZx, HZy, HZz\n",
    "from TlF_hamiltonians.B_coupled_P.quantum_numbers import generate_QN_mF\n",
    "from TlF_hamiltonians.utils import calculate_matrix_reps, state_operator"
   ]
  },
  {
   "cell_type": "markdown",
   "id": "847660a9-6738-4462-83a4-0df73ff87a38",
   "metadata": {},
   "source": [
    "## Test some of the Hamiltonians"
   ]
  },
  {
   "cell_type": "markdown",
   "id": "5ffe8b1e-e75b-4560-b449-24e3a4796326",
   "metadata": {
    "tags": []
   },
   "source": [
    "### H_mhf_Tl\n",
    "- Should not care about sign of $\\Omega$"
   ]
  },
  {
   "cell_type": "code",
   "execution_count": 29,
   "id": "0cd7f838-b27f-47d1-8e8a-70f3ff2d617d",
   "metadata": {},
   "outputs": [],
   "source": [
    "test_state_p = (1*UncoupledBasisState(J = 1, mJ = 0, I1 = 1/2, m1 = -1/2, I2 = 1/2, m2 = 1/2, P = +1, Omega = 1)).transform_to_coupled()\n",
    "test_state_m = (1*UncoupledBasisState(J = 1, mJ = 0, I1 = 1/2, m1 = -1/2, I2 = 1/2, m2 = 1/2, P = -1, Omega = 1)).transform_to_coupled()"
   ]
  },
  {
   "cell_type": "code",
   "execution_count": 30,
   "id": "f4fb22ea-94cd-4fb3-9a66-53bd5f78293e",
   "metadata": {},
   "outputs": [
    {
     "data": {
      "text/plain": [
       "0.35+0.00j x |J = 1, mJ = -1, I₁ = 1/2, m₁ = 1/2, I₂ = 1/2, m₂ = 1/2, P = +, Ω = 1>\n",
       "0.27+0.00j x |J = 2, mJ = -1, I₁ = 1/2, m₁ = 1/2, I₂ = 1/2, m₂ = 1/2, P = +, Ω = 1>\n",
       "-0.22+0.00j x |J = 2, mJ = 0, I₁ = 1/2, m₁ = -1/2, I₂ = 1/2, m₂ = 1/2, P = +, Ω = 1>"
      ]
     },
     "execution_count": 30,
     "metadata": {},
     "output_type": "execute_result"
    }
   ],
   "source": [
    "H_mhf_Tl(test_state_p).transform_to_uncoupled()/cst_B.h1_Tl"
   ]
  },
  {
   "cell_type": "code",
   "execution_count": 31,
   "id": "bfc6ad37-c449-49d2-9d2b-dcbc6c21a82a",
   "metadata": {},
   "outputs": [
    {
     "data": {
      "text/plain": [
       "0.35+0.00j x |J = 1, mJ = -1, I₁ = 1/2, m₁ = 1/2, I₂ = 1/2, m₂ = 1/2, P = -, Ω = 1>\n",
       "0.27+0.00j x |J = 2, mJ = -1, I₁ = 1/2, m₁ = 1/2, I₂ = 1/2, m₂ = 1/2, P = -, Ω = 1>\n",
       "-0.22+0.00j x |J = 2, mJ = 0, I₁ = 1/2, m₁ = -1/2, I₂ = 1/2, m₂ = 1/2, P = -, Ω = 1>"
      ]
     },
     "execution_count": 31,
     "metadata": {},
     "output_type": "execute_result"
    }
   ],
   "source": [
    "H_mhf_Tl(test_state_m).transform_to_uncoupled()/cst_B.h1_Tl"
   ]
  },
  {
   "cell_type": "markdown",
   "id": "5369e02f-41df-4293-bb7e-3d9afed6e66b",
   "metadata": {
    "tags": []
   },
   "source": [
    "### H_mhf_F\n",
    "- Should not care about sign of $\\Omega$"
   ]
  },
  {
   "cell_type": "code",
   "execution_count": 32,
   "id": "9b3ea155-bfe7-4cb9-a15b-6ac47cb9692a",
   "metadata": {},
   "outputs": [
    {
     "data": {
      "text/plain": [
       "0.35+0.00j x |J = 1, mJ = 1, I₁ = 1/2, m₁ = -1/2, I₂ = 1/2, m₂ = -1/2, P = +, Ω = 1>\n",
       "-0.27+0.00j x |J = 2, mJ = 1, I₁ = 1/2, m₁ = -1/2, I₂ = 1/2, m₂ = -1/2, P = +, Ω = 1>\n",
       "0.22+0.00j x |J = 2, mJ = 0, I₁ = 1/2, m₁ = -1/2, I₂ = 1/2, m₂ = 1/2, P = +, Ω = 1>"
      ]
     },
     "execution_count": 32,
     "metadata": {},
     "output_type": "execute_result"
    }
   ],
   "source": [
    "H_mhf_F(test_state_p).transform_to_uncoupled()/cst_B.h1_F"
   ]
  },
  {
   "cell_type": "code",
   "execution_count": 33,
   "id": "3e9a8dab-1e92-4921-bac3-0dac2070b3de",
   "metadata": {},
   "outputs": [
    {
     "data": {
      "text/plain": [
       "0.35+0.00j x |J = 1, mJ = 1, I₁ = 1/2, m₁ = -1/2, I₂ = 1/2, m₂ = -1/2, P = -, Ω = 1>\n",
       "-0.27+0.00j x |J = 2, mJ = 1, I₁ = 1/2, m₁ = -1/2, I₂ = 1/2, m₂ = -1/2, P = -, Ω = 1>\n",
       "0.22+0.00j x |J = 2, mJ = 0, I₁ = 1/2, m₁ = -1/2, I₂ = 1/2, m₂ = 1/2, P = -, Ω = 1>"
      ]
     },
     "execution_count": 33,
     "metadata": {},
     "output_type": "execute_result"
    }
   ],
   "source": [
    "H_mhf_F(test_state_m).transform_to_uncoupled()/cst_B.h1_F"
   ]
  },
  {
   "cell_type": "markdown",
   "id": "b6135c1b-fb40-4f4c-a32b-ef41d16c6672",
   "metadata": {
    "tags": []
   },
   "source": [
    "### H_c1p\n",
    "- Should not care about sign of $\\Omega$"
   ]
  },
  {
   "cell_type": "code",
   "execution_count": 34,
   "id": "4d785095-e50c-406a-9402-273834325e19",
   "metadata": {},
   "outputs": [
    {
     "data": {
      "text/plain": [
       "0.35+0.00j x |J = 1, mJ = -1, I₁ = 1/2, m₁ = 1/2, I₂ = 1/2, m₂ = 1/2, P = +, Ω = 1>\n",
       "-0.27+0.00j x |J = 2, mJ = -1, I₁ = 1/2, m₁ = 1/2, I₂ = 1/2, m₂ = 1/2, P = +, Ω = 1>\n",
       "0.22+0.00j x |J = 2, mJ = 0, I₁ = 1/2, m₁ = -1/2, I₂ = 1/2, m₂ = 1/2, P = +, Ω = 1>"
      ]
     },
     "execution_count": 34,
     "metadata": {},
     "output_type": "execute_result"
    }
   ],
   "source": [
    "H_c1p(test_state_p).transform_to_uncoupled()/cst_B.c1p_Tl"
   ]
  },
  {
   "cell_type": "code",
   "execution_count": 35,
   "id": "311e2a20-c83e-46f9-bc20-867c7ecfcbfd",
   "metadata": {},
   "outputs": [
    {
     "data": {
      "text/plain": [
       "-0.35+0.00j x |J = 1, mJ = -1, I₁ = 1/2, m₁ = 1/2, I₂ = 1/2, m₂ = 1/2, P = -, Ω = 1>\n",
       "0.27+0.00j x |J = 2, mJ = -1, I₁ = 1/2, m₁ = 1/2, I₂ = 1/2, m₂ = 1/2, P = -, Ω = 1>\n",
       "-0.22+0.00j x |J = 2, mJ = 0, I₁ = 1/2, m₁ = -1/2, I₂ = 1/2, m₂ = 1/2, P = -, Ω = 1>"
      ]
     },
     "execution_count": 35,
     "metadata": {},
     "output_type": "execute_result"
    }
   ],
   "source": [
    "H_c1p(test_state_m).transform_to_uncoupled()/cst_B.c1p_Tl"
   ]
  },
  {
   "cell_type": "markdown",
   "id": "d7b7383a-00be-443b-855c-e024a3bb30a9",
   "metadata": {},
   "source": [
    "## Generate quantum numbers"
   ]
  },
  {
   "cell_type": "code",
   "execution_count": 36,
   "id": "9dcdad14-20f6-4f83-aeba-93859497b258",
   "metadata": {},
   "outputs": [],
   "source": [
    "QN = generate_QN_mF(mF = 0, Jmin = 1, Jmax = 3)"
   ]
  },
  {
   "cell_type": "markdown",
   "id": "fec9fe27-d725-480b-a420-22be71ddf3f5",
   "metadata": {},
   "source": [
    "## Calculate matrix rep for Hamiltonian"
   ]
  },
  {
   "cell_type": "code",
   "execution_count": 37,
   "id": "46e38ddd-ca0b-43d1-89c9-cdcb4be05f19",
   "metadata": {},
   "outputs": [],
   "source": [
    "H_names = [\"H_c1p\", \"H_mhf_F\", \"H_mhf_Tl\", \"H_q\", \"Hc1\", \"Hrot\"]\n",
    "H_list = [H_c1p, H_mhf_F, H_mhf_Tl, H_q, Hc1, Hrot]\n",
    "matrix_reps = calculate_matrix_reps(H_list, QN)\n",
    "\n",
    "H_dict = {H_name: M for H_name, M in zip(H_names, matrix_reps)}"
   ]
  },
  {
   "cell_type": "code",
   "execution_count": 38,
   "id": "4ca3ef16-36c3-471a-8fb3-edaffd4a4857",
   "metadata": {},
   "outputs": [],
   "source": [
    "H_tot = sum(matrix_reps)\n",
    "# H_tot = H_dict[\"Hrot\"] + H_dict[\"H_q\"] + H_dict[\"H_mhf_Tl\"] + H_dict[\"H_mhf_F\"] + H_dict[\"H_c1p\"] + H"
   ]
  },
  {
   "cell_type": "markdown",
   "id": "1f7cc8f7-af88-49a9-aa9a-5d464a2519e3",
   "metadata": {},
   "source": [
    "### Check that Hamiltonian is hermitian"
   ]
  },
  {
   "cell_type": "code",
   "execution_count": 39,
   "id": "e44cf7f4-b407-45a1-9287-5eef7aca1c70",
   "metadata": {},
   "outputs": [
    {
     "name": "stdout",
     "output_type": "stream",
     "text": [
      "H_c1p is hermitian: True\n",
      "H_mhf_F is hermitian: True\n",
      "H_mhf_Tl is hermitian: True\n",
      "H_q is hermitian: True\n",
      "Hc1 is hermitian: True\n",
      "Hrot is hermitian: True\n"
     ]
    }
   ],
   "source": [
    "for name, H in zip(H_names, matrix_reps):\n",
    "    isherm = np.allclose(H, H.conj().T)\n",
    "    print(f\"{name} is hermitian: {isherm}\")"
   ]
  },
  {
   "cell_type": "code",
   "execution_count": 40,
   "id": "8e390730-1c13-4bcf-9c5a-b9adc433efc7",
   "metadata": {},
   "outputs": [
    {
     "name": "stdout",
     "output_type": "stream",
     "text": [
      "Hamiltonian is hermitian: True\n"
     ]
    }
   ],
   "source": [
    "isherm = np.allclose(H_tot, H_tot.conj().T)\n",
    "print(f\"Hamiltonian is hermitian: {isherm}\")"
   ]
  },
  {
   "cell_type": "markdown",
   "id": "3c683baf-ac79-4b43-b1dd-4c8810fa4ef5",
   "metadata": {},
   "source": [
    "## Diagonalize Hamiltonian"
   ]
  },
  {
   "cell_type": "code",
   "execution_count": 41,
   "id": "44d325e9-98ba-4f67-ba26-747bfaad130d",
   "metadata": {},
   "outputs": [],
   "source": [
    "D, V = np.linalg.eigh(H_tot)"
   ]
  },
  {
   "cell_type": "markdown",
   "id": "9a5b67e8-9c67-4bfb-8486-f51b5e0a7bff",
   "metadata": {},
   "source": [
    "## What do eigenstates look like?\n",
    "Should be superpositions of states with opposite values of $\\Omega$"
   ]
  },
  {
   "cell_type": "code",
   "execution_count": 42,
   "id": "88fe55f0-8ff9-48c0-9b05-fbed17454cb1",
   "metadata": {},
   "outputs": [],
   "source": [
    "states = matrix_to_states(V,QN)"
   ]
  },
  {
   "cell_type": "code",
   "execution_count": 43,
   "id": "8693b1bd-bae3-4fdf-b575-8a256d436e0c",
   "metadata": {},
   "outputs": [
    {
     "data": {
      "text/plain": [
       "array([-1.44937652, -1.43336052, -0.8856981 , -0.86971077, 12.63144367,\n",
       "       12.64914799, 12.94827732, 12.96625176, 39.61986136, 39.63376577,\n",
       "       39.85001603, 39.86413392, 40.30018732, 40.31448632, 40.88205235,\n",
       "       40.89609171, 80.41269218, 80.44681757, 80.75601464, 80.78993417,\n",
       "       83.70601109, 83.71834267, 83.9444575 , 83.9567785 ])"
      ]
     },
     "execution_count": 43,
     "metadata": {},
     "output_type": "execute_result"
    }
   ],
   "source": [
    "D/1e9"
   ]
  },
  {
   "cell_type": "code",
   "execution_count": 44,
   "id": "0c1ce21b-62d1-47d6-993c-20be695f2d0d",
   "metadata": {},
   "outputs": [
    {
     "name": "stdout",
     "output_type": "stream",
     "text": [
      "\n",
      "+1.0000+0.0000j x |J = 1, F₁ = 1/2, F = 0, mF = 0, I₁ = 1/2, I₂ = 1/2, P = +, Ω = 1>\n",
      "f\n",
      "\n",
      "+1.0000+0.0000j x |J = 1, F₁ = 1/2, F = 0, mF = 0, I₁ = 1/2, I₂ = 1/2, P = -, Ω = 1>\n",
      "e\n",
      "\n",
      "+0.9996+0.0000j x |J = 1, F₁ = 1/2, F = 1, mF = 0, I₁ = 1/2, I₂ = 1/2, P = +, Ω = 1>\n",
      "+0.0200+0.0000j x |J = 1, F₁ = 3/2, F = 1, mF = 0, I₁ = 1/2, I₂ = 1/2, P = +, Ω = 1>\n",
      "+0.0178+0.0000j x |J = 2, F₁ = 3/2, F = 1, mF = 0, I₁ = 1/2, I₂ = 1/2, P = +, Ω = 1>\n",
      "f\n",
      "\n",
      "+0.9996+0.0000j x |J = 1, F₁ = 1/2, F = 1, mF = 0, I₁ = 1/2, I₂ = 1/2, P = -, Ω = 1>\n",
      "+0.0201+0.0000j x |J = 1, F₁ = 3/2, F = 1, mF = 0, I₁ = 1/2, I₂ = 1/2, P = -, Ω = 1>\n",
      "+0.0178+0.0000j x |J = 2, F₁ = 3/2, F = 1, mF = 0, I₁ = 1/2, I₂ = 1/2, P = -, Ω = 1>\n",
      "e\n",
      "\n",
      "-0.0264+0.0000j x |J = 1, F₁ = 1/2, F = 1, mF = 0, I₁ = 1/2, I₂ = 1/2, P = -, Ω = 1>\n",
      "+0.8518+0.0000j x |J = 1, F₁ = 3/2, F = 1, mF = 0, I₁ = 1/2, I₂ = 1/2, P = -, Ω = 1>\n",
      "+0.5233+0.0000j x |J = 2, F₁ = 3/2, F = 1, mF = 0, I₁ = 1/2, I₂ = 1/2, P = -, Ω = 1>\n",
      "e\n",
      "\n",
      "-0.0264+0.0000j x |J = 1, F₁ = 1/2, F = 1, mF = 0, I₁ = 1/2, I₂ = 1/2, P = +, Ω = 1>\n",
      "+0.8521+0.0000j x |J = 1, F₁ = 3/2, F = 1, mF = 0, I₁ = 1/2, I₂ = 1/2, P = +, Ω = 1>\n",
      "+0.5227+0.0000j x |J = 2, F₁ = 3/2, F = 1, mF = 0, I₁ = 1/2, I₂ = 1/2, P = +, Ω = 1>\n",
      "f\n",
      "\n",
      "+0.8482+0.0000j x |J = 1, F₁ = 3/2, F = 2, mF = 0, I₁ = 1/2, I₂ = 1/2, P = -, Ω = 1>\n",
      "+0.5294+0.0000j x |J = 2, F₁ = 3/2, F = 2, mF = 0, I₁ = 1/2, I₂ = 1/2, P = -, Ω = 1>\n",
      "+0.0136+0.0000j x |J = 2, F₁ = 5/2, F = 2, mF = 0, I₁ = 1/2, I₂ = 1/2, P = -, Ω = 1>\n",
      "e\n",
      "\n",
      "+0.8486+0.0000j x |J = 1, F₁ = 3/2, F = 2, mF = 0, I₁ = 1/2, I₂ = 1/2, P = +, Ω = 1>\n",
      "+0.5289+0.0000j x |J = 2, F₁ = 3/2, F = 2, mF = 0, I₁ = 1/2, I₂ = 1/2, P = +, Ω = 1>\n",
      "+0.0136+0.0000j x |J = 2, F₁ = 5/2, F = 2, mF = 0, I₁ = 1/2, I₂ = 1/2, P = +, Ω = 1>\n",
      "f\n"
     ]
    }
   ],
   "source": [
    "for state in states[:8]:\n",
    "    print(\"\")\n",
    "    state.remove_small_components().print_state(tol=0.01)\n",
    "    state.print_ef_parity()"
   ]
  },
  {
   "cell_type": "markdown",
   "id": "693a2e32-593e-46af-a681-31c1d218769d",
   "metadata": {},
   "source": [
    "## $\\Omega$-splittings\n",
    "Calculating energy differences between states of opposite parity\n",
    "\n",
    "state = (J,F1,F)\n",
    "\n",
    "state1 = (1,1/2,0)\n",
    "\n",
    "state2 = (1,1/2,1)\n",
    "\n",
    "state3 = (1,3/2,1)\n",
    "\n",
    "state4 = (1,3/2,2)\n",
    "\n",
    "state5 = (2,5/2,2)\n",
    "\n",
    "state6 = (2,5/2,3)\n",
    "\n",
    "state7 = (2,3/2,1)\n",
    "\n",
    "state8 = (2,3/2,2)"
   ]
  },
  {
   "cell_type": "code",
   "execution_count": 45,
   "id": "5a09ea78-55aa-4e0d-9d61-38599478cd0d",
   "metadata": {},
   "outputs": [
    {
     "name": "stdout",
     "output_type": "stream",
     "text": [
      "16.01599999999985\n",
      "15.987331679483304\n",
      "-17.70432456479466\n",
      "17.974442746621207\n",
      "-13.904412724034046\n",
      "-14.117891009678715\n",
      "14.299007114677806\n",
      "14.039359302238154\n"
     ]
    }
   ],
   "source": [
    "#Define the states of interest (approximately)\n",
    "state1e_appr = 1/np.sqrt(2)* (1*CoupledBasisState(F=0, mF=0, F1=1/2, J=1, I1=1/2, I2=1/2, P=-1, Omega = +1))\n",
    "\n",
    "state1f_appr = 1/np.sqrt(2)* ( 1*CoupledBasisState(F=0, mF=0, F1=1/2, J=1, I1=1/2, I2=1/2, P=+1, Omega = +1))\n",
    "\n",
    "state2e_appr = 1/np.sqrt(2)* ( 1*CoupledBasisState(F=1, mF=0, F1=1/2, J=1, I1=1/2, I2=1/2, P=-1, Omega=+1))\n",
    "\n",
    "state2f_appr =  1/np.sqrt(2)* ( 1*CoupledBasisState(F=1, mF=0, F1=1/2, J=1, I1=1/2, I2=1/2, P=+1, Omega=+1))\n",
    "\n",
    "state3e_appr = 1/np.sqrt(2)* ( 1*CoupledBasisState(F=1, mF=0,F1 =3/2, J=1, I1=1/2, I2=1/2, P=-1, Omega=+1))\n",
    "\n",
    "state3f_appr = 1/np.sqrt(2)* ( 1*CoupledBasisState(F=1, mF =0,F1 =3/2, J=1, I1=1/2, I2=1/2, P=+1, Omega=+1))\n",
    "\n",
    "state4e_appr = 1/np.sqrt(2)* ( 1*CoupledBasisState(F=2, mF = 0, F1 = 3/2, J = 1, I1 = 1/2, I2 = 1/2, P=+1, Omega=+1))\n",
    "\n",
    "state4f_appr = 1/np.sqrt(2)* ( 1*CoupledBasisState(F=2, mF = 0, F1 = 3/2, J = 1, I1 = 1/2, I2 = 1/2, P=-1, Omega=+1))\n",
    "\n",
    "state5e_appr = 1/np.sqrt(2)* ( 1*CoupledBasisState(F=2, mF = 0, F1 = 5/2, J = 2, I1 = 1/2, I2 = 1/2, P=+1, Omega=+1))\n",
    "\n",
    "state5f_appr= 1/np.sqrt(2)* (1*CoupledBasisState(F=2, mF = 0, F1 = 5/2, J = 2, I1 = 1/2, I2 = 1/2, P=-1, Omega=+1))\n",
    "\n",
    "state6e_appr = 1/np.sqrt(2)* (1*CoupledBasisState(F=3, mF = 0, F1 = 5/2, J = 2, I1 = 1/2, I2 = 1/2, P=+1, Omega = +1))\n",
    "\n",
    "state6f_appr = 1/np.sqrt(2)* ( 1*CoupledBasisState(F=3, mF = 0, F1 = 5/2, J = 2, I1 = 1/2, I2 = 1/2, P=-1, Omega=+1))\n",
    "\n",
    "state7e_appr = 1/np.sqrt(2)* ( 1*CoupledBasisState(F=1, mF = 0, F1 = 3/2, J = 2, I1 = 1/2, I2 = 1/2, P=+1, Omega=+1))\n",
    "\n",
    "state7f_appr = 1/np.sqrt(2)* ( 1*CoupledBasisState(F=1, mF = 0, F1 = 3/2, J = 2, I1 = 1/2, I2 = 1/2, P=-1, Omega=+1))\n",
    "                              \n",
    "state8e_appr = 1/np.sqrt(2)* ( 1*CoupledBasisState(F=2, mF = 0, F1 = 3/2, J = 2, I1 = 1/2, I2 = 1/2, P=+1, Omega=+1))\n",
    "\n",
    "state8f_appr = 1/np.sqrt(2)* ( 1*CoupledBasisState(F=2, mF = 0, F1 = 3/2, J = 2, I1 = 1/2, I2 = 1/2, P=-1, Omega=+1))\n",
    "\n",
    "E1 = D[find_state_idx_from_state(H_tot,state1e_appr,QN)]/1e6 - D[find_state_idx_from_state(H_tot,state1f_appr,QN)]/1e6\n",
    "print(E1)\n",
    "\n",
    "E2 = D[find_state_idx_from_state(H_tot,state2e_appr,QN)]/1e6 - D[find_state_idx_from_state(H_tot,state2f_appr,QN)]/1e6\n",
    "print(E2)\n",
    "\n",
    "E3 = D[find_state_idx_from_state(H_tot,state3e_appr,QN)]/1e6 - D[find_state_idx_from_state(H_tot,state3f_appr,QN)]/1e6\n",
    "print(E3)\n",
    "\n",
    "E4 = D[find_state_idx_from_state(H_tot,state4e_appr,QN)]/1e6 - D[find_state_idx_from_state(H_tot,state4f_appr,QN)]/1e6\n",
    "print(E4)\n",
    "\n",
    "E5 = D[find_state_idx_from_state(H_tot,state5e_appr,QN)]/1e6 - D[find_state_idx_from_state(H_tot,state5f_appr,QN)]/1e6\n",
    "print(E5)\n",
    "\n",
    "E6 = D[find_state_idx_from_state(H_tot,state6e_appr,QN)]/1e6 - D[find_state_idx_from_state(H_tot,state6f_appr,QN)]/1e6\n",
    "print(E6)\n",
    "\n",
    "E7 = D[find_state_idx_from_state(H_tot,state7e_appr,QN)]/1e6 - D[find_state_idx_from_state(H_tot,state7f_appr,QN)]/1e6\n",
    "print(E7)\n",
    "\n",
    "E8 = D[find_state_idx_from_state(H_tot,state8e_appr,QN)]/1e6 - D[find_state_idx_from_state(H_tot,state8f_appr,QN)]/1e6\n",
    "print(E8)"
   ]
  },
  {
   "cell_type": "code",
   "execution_count": 48,
   "id": "f3c76622-4858-4df3-bca3-49c43d080e01",
   "metadata": {},
   "outputs": [
    {
     "name": "stdout",
     "output_type": "stream",
     "text": [
      "f\n"
     ]
    }
   ],
   "source": [
    "state1f_appr.print_ef_parity()"
   ]
  },
  {
   "cell_type": "markdown",
   "id": "ec987090-a478-4f87-8418-299b9a6ea892",
   "metadata": {},
   "source": [
    "## Splittings"
   ]
  },
  {
   "cell_type": "code",
   "execution_count": 46,
   "id": "3c62c3d9-722d-4d04-ba1f-2a345bd34906",
   "metadata": {},
   "outputs": [],
   "source": [
    "def calculate_splitting(state1,state2):\n",
    "    return D[find_state_idx_from_state(H_tot,state2,QN)]/1e6 - D[find_state_idx_from_state(H_tot,state1,QN)]/1e6"
   ]
  },
  {
   "cell_type": "code",
   "execution_count": 47,
   "id": "2a690db3-894d-42cd-9b04-ee24213a77c2",
   "metadata": {},
   "outputs": [
    {
     "name": "stdout",
     "output_type": "stream",
     "text": [
      "a_+ = 563.68 MHz\n",
      "a_- = 563.65 MHz\n",
      "b_+ = 13534.85 MHz\n",
      "b_- = 13501.15 MHz\n",
      "c_+ = 299.13 MHz\n",
      "c_- = 334.81 MHz\n",
      "omega1 = 15.99 MHz\n",
      "omega2 = -17.70 MHz\n"
     ]
    }
   ],
   "source": [
    "ap = calculate_splitting(state1f_appr,state2f_appr)\n",
    "print(\"a_+ = {:.2f} MHz\".format(ap))\n",
    "\n",
    "am = calculate_splitting(state1e_appr,state2e_appr)\n",
    "print(\"a_- = {:.2f} MHz\".format(am))\n",
    "\n",
    "bp = calculate_splitting(state2f_appr,state3f_appr)\n",
    "print(\"b_+ = {:.2f} MHz\".format(bp))\n",
    "\n",
    "bm = calculate_splitting(state2e_appr,state3e_appr)\n",
    "print(\"b_- = {:.2f} MHz\".format(bm))\n",
    "\n",
    "cp = calculate_splitting(state3f_appr,state4f_appr)\n",
    "print(\"c_+ = {:.2f} MHz\".format(cp))\n",
    "\n",
    "cm = calculate_splitting(state3e_appr,state4e_appr)\n",
    "print(\"c_- = {:.2f} MHz\".format(cm))\n",
    "\n",
    "omega1 = calculate_splitting(state2f_appr,state2e_appr)\n",
    "print(\"omega1 = {:.2f} MHz\".format(omega1))\n",
    "\n",
    "omega2 = calculate_splitting(state3f_appr,state3e_appr)\n",
    "print(\"omega2 = {:.2f} MHz\".format(omega2))"
   ]
  }
 ],
 "metadata": {
  "kernelspec": {
   "display_name": "Python 3 (ipykernel)",
   "language": "python",
   "name": "python3"
  },
  "language_info": {
   "codemirror_mode": {
    "name": "ipython",
    "version": 3
   },
   "file_extension": ".py",
   "mimetype": "text/x-python",
   "name": "python",
   "nbconvert_exporter": "python",
   "pygments_lexer": "ipython3",
   "version": "3.10.4"
  }
 },
 "nbformat": 4,
 "nbformat_minor": 5
}
