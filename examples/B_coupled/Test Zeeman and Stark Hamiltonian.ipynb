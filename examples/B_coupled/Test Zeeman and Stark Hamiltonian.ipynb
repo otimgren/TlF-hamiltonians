{
 "cells": [
  {
   "cell_type": "markdown",
   "id": "7422d8b3-f906-4e24-8c78-72392795f050",
   "metadata": {},
   "source": [
    "# Test Zeeman and Stark Hamiltonian"
   ]
  },
  {
   "cell_type": "markdown",
   "id": "f82e114f-c632-454a-8774-0037b674ff84",
   "metadata": {},
   "source": [
    "## Import packages"
   ]
  },
  {
   "cell_type": "code",
   "execution_count": 3,
   "id": "262937fa-8547-442a-9670-67ef36487907",
   "metadata": {},
   "outputs": [
    {
     "name": "stdout",
     "output_type": "stream",
     "text": [
      "The autoreload extension is already loaded. To reload it, use:\n",
      "  %reload_ext autoreload\n"
     ]
    }
   ],
   "source": [
    "%load_ext autoreload\n",
    "%autoreload 2\n",
    "\n",
    "import numpy as np\n",
    "import matplotlib.pyplot as plt\n",
    "plt.style.use(['seaborn-dark'])\n",
    "\n",
    "from centrex_TlF import CoupledBasisState, UncoupledBasisState\n",
    "from centrex_TlF.hamiltonian.utils import threej_f\n",
    "from centrex_TlF.states.utils import matrix_to_states, find_state_idx_from_state\n",
    "from centrex_TlF.constants import constants_B as cst_B\n",
    "from TlF_hamiltonians.B_coupled import H_c1p, H_mhf_F, H_mhf_Tl, H_q, Hc1, Hrot, HSx, HSy, HSz, HZx, HZy, HZz\n",
    "from TlF_hamiltonians.B_coupled.quantum_numbers import generate_QN\n",
    "from TlF_hamiltonians.utils import calculate_matrix_reps, find_QN_indices"
   ]
  },
  {
   "cell_type": "markdown",
   "id": "ab457ad8-8f90-4f57-834b-8f95b15ed706",
   "metadata": {},
   "source": [
    "## Set up Hamiltonian"
   ]
  },
  {
   "cell_type": "markdown",
   "id": "fa376ad3-d23b-4732-8e39-c754cfed374f",
   "metadata": {},
   "source": [
    "### Generate quantum numbers"
   ]
  },
  {
   "cell_type": "code",
   "execution_count": 4,
   "id": "9dcdad14-20f6-4f83-aeba-93859497b258",
   "metadata": {},
   "outputs": [],
   "source": [
    "QN = generate_QN(Jmin = 1, Jmax = 3)"
   ]
  },
  {
   "cell_type": "markdown",
   "id": "df770892-347b-49f2-ab01-e8618ca9a2ef",
   "metadata": {},
   "source": [
    "### Calculate matrix rep for Hamiltonian"
   ]
  },
  {
   "cell_type": "code",
   "execution_count": 5,
   "id": "3eb61161-fcf2-47be-916f-7b1aa551ae45",
   "metadata": {},
   "outputs": [],
   "source": [
    "H_names = [\"H_c1p\", \"H_mhf_F\", \"H_mhf_Tl\", \"H_q\", \"Hc1\", \"Hrot\", \"HSx\", \"HSy\", \"HSz\", \"HZx\", \"HZy\", \"HZz\"]\n",
    "H_list = [H_c1p, H_mhf_F, H_mhf_Tl, H_q, Hc1, Hrot, HSx, HSy, HSz, HZx, HZy, HZz]\n",
    "matrix_reps = calculate_matrix_reps(H_list, QN)\n",
    "\n",
    "H_dict = {H_name: M for H_name, M in zip(H_names, matrix_reps)}"
   ]
  },
  {
   "cell_type": "code",
   "execution_count": 6,
   "id": "53bb4b89-91ad-49bf-be09-052aaeb17a09",
   "metadata": {},
   "outputs": [],
   "source": [
    "H0_names = [\"H_c1p\", \"H_mhf_F\", \"H_mhf_Tl\", \"H_q\", \"Hc1\", \"Hrot\"]\n",
    "H0 = sum([H_dict[name] for name in H0_names])"
   ]
  },
  {
   "cell_type": "markdown",
   "id": "fcb933cf-f50e-457d-a05d-d6c25861e465",
   "metadata": {
    "tags": []
   },
   "source": [
    "## Test Zeeman Hamiltonian\n",
    "Testing the Zeeman Hamiltonian by making sure it reproduces the correct g-factors and checking that the Zeeman spectrum is the same for a magnetic field in any direction"
   ]
  },
  {
   "cell_type": "markdown",
   "id": "d2f1fe8b-6734-4bfd-b17f-8a1da85e7f8b",
   "metadata": {},
   "source": [
    "### Hamiltonian as function of magnetic field"
   ]
  },
  {
   "cell_type": "code",
   "execution_count": 7,
   "id": "9ac2f6cd-58d9-4530-9311-d9abdf65ce35",
   "metadata": {},
   "outputs": [],
   "source": [
    "H_B = lambda B: H0 + B[0]*H_dict[\"HZx\"] + B[1]*H_dict[\"HZy\"] + B[2]*H_dict[\"HZz\"]"
   ]
  },
  {
   "cell_type": "markdown",
   "id": "a2954e86-2d44-4b9a-ade3-6e166b446def",
   "metadata": {},
   "source": [
    "Check that the Hamiltonian is Hermitian"
   ]
  },
  {
   "cell_type": "code",
   "execution_count": 8,
   "id": "e9e0802b-41a6-443c-8989-a9e51edb25ab",
   "metadata": {},
   "outputs": [
    {
     "name": "stdout",
     "output_type": "stream",
     "text": [
      "Hamiltonian is Hermitian: True\n"
     ]
    }
   ],
   "source": [
    "B = np.array([1,1,1])\n",
    "H_test = H_B(B)\n",
    "print(f\"Hamiltonian is Hermitian: {np.allclose(H_test, H_test.conj().T)}\")"
   ]
  },
  {
   "cell_type": "markdown",
   "id": "817409c0-3af5-4d5b-9870-6d763b7345a8",
   "metadata": {},
   "source": [
    "### Plot spectrum\n",
    "Calculate eigenenergies of states at various magnetic field values and plot them"
   ]
  },
  {
   "cell_type": "code",
   "execution_count": 9,
   "id": "1e1eb404-2afa-4643-9670-a1a0ba63de34",
   "metadata": {},
   "outputs": [],
   "source": [
    "Bzs = np.linspace(-1000,1000,101)\n",
    "energies = np.empty((len(QN), len(Bzs)))\n",
    "for i, Bz in enumerate(Bzs):\n",
    "    D, V = np.linalg.eigh(H_B(np.array([0,0,Bz])))\n",
    "    energies[:,i] = D"
   ]
  },
  {
   "cell_type": "markdown",
   "id": "baad79ab-f748-4fc1-8a74-ce3f04a240e7",
   "metadata": {},
   "source": [
    "Plot"
   ]
  },
  {
   "cell_type": "code",
   "execution_count": 11,
   "id": "ebe417d4-0202-4d28-8624-412bf4fe67c4",
   "metadata": {},
   "outputs": [
    {
     "data": {
      "text/plain": [
       "Text(0, 0.5, 'Energy / MHz')"
      ]
     },
     "execution_count": 11,
     "metadata": {},
     "output_type": "execute_result"
    },
    {
     "data": {
      "image/png": "[encoded data removed]",
      "text/plain": [
       "<Figure size 432x288 with 1 Axes>"
      ]
     },
     "metadata": {},
     "output_type": "display_data"
    }
   ],
   "source": [
    "fig, ax = plt.subplots()\n",
    "\n",
    "energies_plot = energies[find_QN_indices(QN, J = 1), :]\n",
    "\n",
    "ax.plot(Bzs,energies_plot.T/(1e6), c = 'C0');\n",
    "ax.set_xlabel('Bz / G')\n",
    "ax.set_ylabel('Energy / MHz')"
   ]
  },
  {
   "cell_type": "markdown",
   "id": "e38ca952-4724-402b-8a99-26d2997dfeb8",
   "metadata": {},
   "source": [
    "### g-factors\n",
    "Calculate the g-factors for the states presented in [Meijer et al](https://journals.aps.org/pra/abstract/10.1103/PhysRevA.101.042506) by setting B = 1G and dividing by the Bohr magneton"
   ]
  },
  {
   "cell_type": "code",
   "execution_count": 12,
   "id": "86d1cb72-1017-4dd2-a37d-e0fd03e708b8",
   "metadata": {},
   "outputs": [
    {
     "name": "stdout",
     "output_type": "stream",
     "text": [
      "1.00 x |J = 1, F₁ = 1/2, F = 0, mF = 0, I₁ = 1/2, I₂ = 1/2, Ω = 1>\t:\tgF = 0.000\n",
      "1.00 x |J = 1, F₁ = 1/2, F = 1, mF = 1, I₁ = 1/2, I₂ = 1/2, Ω = 1>\t:\tgF = 0.321\n",
      "1.00 x |J = 1, F₁ = 3/2, F = 1, mF = 1, I₁ = 1/2, I₂ = 1/2, Ω = 1>\t:\tgF = 0.253\n",
      "1.00 x |J = 1, F₁ = 3/2, F = 2, mF = 1, I₁ = 1/2, I₂ = 1/2, Ω = 1>\t:\tgF = 0.142\n",
      "1.00 x |J = 2, F₁ = 5/2, F = 2, mF = 1, I₁ = 1/2, I₂ = 1/2, Ω = 1>\t:\tgF = 0.111\n",
      "1.00 x |J = 2, F₁ = 5/2, F = 3, mF = 1, I₁ = 1/2, I₂ = 1/2, Ω = 1>\t:\tgF = 0.077\n",
      "1.00 x |J = 2, F₁ = 3/2, F = 1, mF = 1, I₁ = 1/2, I₂ = 1/2, Ω = 1>\t:\tgF = 0.425\n",
      "1.00 x |J = 2, F₁ = 3/2, F = 2, mF = 1, I₁ = 1/2, I₂ = 1/2, Ω = 1>\t:\tgF = 0.254\n"
     ]
    }
   ],
   "source": [
    "# Define the states whose g-factors need to be found\n",
    "states = [\n",
    "    1*CoupledBasisState(J=1, F1=1/2, F=0, mF=0, I1=1/2, I2=1/2, Omega=1),\n",
    "    1*CoupledBasisState(J=1, F1=1/2, F=1, mF=1, I1=1/2, I2=1/2, Omega=1),\n",
    "    1*CoupledBasisState(J=1, F1=3/2, F=1, mF=1, I1=1/2, I2=1/2, Omega=1),\n",
    "    1*CoupledBasisState(J=1, F1=3/2, F=2, mF=1, I1=1/2, I2=1/2, Omega=1),\n",
    "    1*CoupledBasisState(J=2, F1=5/2, F=2, mF=1, I1=1/2, I2=1/2, Omega=1),\n",
    "    1*CoupledBasisState(J=2, F1=5/2, F=3, mF=1, I1=1/2, I2=1/2, Omega=1),\n",
    "    1*CoupledBasisState(J=2, F1=3/2, F=1, mF=1, I1=1/2, I2=1/2, Omega=1),\n",
    "    1*CoupledBasisState(J=2, F1=3/2, F=2, mF=1, I1=1/2, I2=1/2, Omega=1)\n",
    "         ]\n",
    "\n",
    "# Define Hamiltonian in zero magnetic field\n",
    "H0G= H_B(np.array([0,0,0.000001]))\n",
    "\n",
    "# Define Hamiltonian in magnetic field of 1G along z\n",
    "H1G = H_B(np.array([0,0,1]))\n",
    "\n",
    "# Calculate energies\n",
    "E0G, V0G = np.linalg.eigh(H0G)\n",
    "E1G, V1G = np.linalg.eigh(H1G)\n",
    "\n",
    "# Find differences in energy and divide by Bohr magneton\n",
    "mu_B = 1.4e6\n",
    "\n",
    "for state in states:\n",
    "    # Find state vector for state\n",
    "    state_vec = state.state_vector(QN).reshape(-1,1)\n",
    "    \n",
    "    # Find which index corresponds to state\n",
    "    i0 = np.argmax(np.abs(V0G.T@state_vec))\n",
    "    i1 = np.argmax(np.abs(V1G.T@state_vec))\n",
    "    \n",
    "    # Find change in energy and divide by Bohr magneton to get gF\n",
    "    gF = -(E1G[i1] - E0G[i0])/mu_B\n",
    "    \n",
    "    # Print result\n",
    "    print(f\"{state}\\t:\\tgF = {gF:.3f}\")"
   ]
  },
  {
   "cell_type": "markdown",
   "id": "25c6d99d-ed1d-47dd-98e8-a7360c0cbcd8",
   "metadata": {},
   "source": [
    "### Check isotropicity\n",
    "The direction of the magnetic field should not matter for the energies."
   ]
  },
  {
   "cell_type": "code",
   "execution_count": 13,
   "id": "c6df53fa-9dbe-49ef-879d-66faa73636b4",
   "metadata": {},
   "outputs": [],
   "source": [
    "Bs = np.linspace(-1000,1000,101)\n",
    "energies_x = np.empty((len(QN), len(Bs)))\n",
    "energies_y = np.empty((len(QN), len(Bs)))\n",
    "energies_z = np.empty((len(QN), len(Bs)))\n",
    "for i, B in enumerate(Bs):\n",
    "    energies_x[:,i], _ = np.linalg.eigh(H_B(np.array([B,0,0])))\n",
    "    energies_y[:,i], _ = np.linalg.eigh(H_B(np.array([0,B,0])))\n",
    "    energies_z[:,i], _ = np.linalg.eigh(H_B(np.array([0,0,B])))\n",
    "    "
   ]
  },
  {
   "cell_type": "code",
   "execution_count": 14,
   "id": "b144e059-a187-43db-b1f2-93fda2993401",
   "metadata": {},
   "outputs": [
    {
     "data": {
      "text/plain": [
       "True"
      ]
     },
     "execution_count": 14,
     "metadata": {},
     "output_type": "execute_result"
    }
   ],
   "source": [
    "np.allclose(energies_x, energies_y)"
   ]
  },
  {
   "cell_type": "code",
   "execution_count": 15,
   "id": "400eb8d7-7914-4847-9942-efef0e16c86b",
   "metadata": {},
   "outputs": [
    {
     "data": {
      "text/plain": [
       "True"
      ]
     },
     "execution_count": 15,
     "metadata": {},
     "output_type": "execute_result"
    }
   ],
   "source": [
    "np.allclose(energies_x, energies_z)"
   ]
  },
  {
   "cell_type": "markdown",
   "id": "ad84a1fd-9038-4a2b-a765-d05b130f2ce1",
   "metadata": {},
   "source": [
    "## Test Stark Hamiltonian\n",
    "Plotting the spectrum and checking isotropicity"
   ]
  },
  {
   "cell_type": "markdown",
   "id": "8dfd84cf-d8cc-4b03-bb26-71e394e5da4c",
   "metadata": {},
   "source": [
    "### Hamiltonian as function of electric field"
   ]
  },
  {
   "cell_type": "code",
   "execution_count": 13,
   "id": "27b6093a-011b-465d-a976-18f9f294cf0e",
   "metadata": {},
   "outputs": [],
   "source": [
    "H_E = lambda E: H0 + E[0]*H_dict[\"HSx\"] + E[1]*H_dict[\"HSy\"] + E[2]*H_dict[\"HSz\"]"
   ]
  },
  {
   "cell_type": "markdown",
   "id": "d0dfe368-847d-4a2b-b761-418cc20b1e21",
   "metadata": {},
   "source": [
    "Check that the Hamiltonian is Hermitian"
   ]
  },
  {
   "cell_type": "code",
   "execution_count": 14,
   "id": "d9eeb1db-188a-41da-9d16-161a7fee4f63",
   "metadata": {},
   "outputs": [
    {
     "name": "stdout",
     "output_type": "stream",
     "text": [
      "Hamiltonian is Hermitian: True\n"
     ]
    }
   ],
   "source": [
    "E = np.array([1,1,1])\n",
    "H_test = H_E(E)\n",
    "print(f\"Hamiltonian is Hermitian: {np.allclose(H_test, H_test.conj().T)}\")"
   ]
  },
  {
   "cell_type": "markdown",
   "id": "ba117ced-96ab-40ad-84bd-95c5555e84b8",
   "metadata": {},
   "source": [
    "### Plot spectrum\n",
    "Calculate eigenenergies of states at various electric field values and plot them"
   ]
  },
  {
   "cell_type": "code",
   "execution_count": 15,
   "id": "8fa066d3-c84e-408b-a638-6806644a4ce1",
   "metadata": {},
   "outputs": [],
   "source": [
    "Ezs = np.linspace(-1000,1000,101)\n",
    "energies = np.empty((len(QN), len(Bzs)))\n",
    "for i, Ez in enumerate(Ezs):\n",
    "    D, V = np.linalg.eigh(H_E(np.array([0,0,Ez])))\n",
    "    energies[:,i] = D"
   ]
  },
  {
   "cell_type": "markdown",
   "id": "7571b40b-fb34-4fd7-a9a3-5e7713c1199f",
   "metadata": {},
   "source": [
    "Plot"
   ]
  },
  {
   "cell_type": "code",
   "execution_count": 16,
   "id": "710d4b1c-835a-434c-b33f-debada955ba0",
   "metadata": {},
   "outputs": [
    {
     "data": {
      "text/plain": [
       "Text(0, 0.5, 'Energy / MHz')"
      ]
     },
     "execution_count": 16,
     "metadata": {},
     "output_type": "execute_result"
    },
    {
     "data": {
      "image/png": "[encoded data removed]",
      "text/plain": [
       "<Figure size 1152x648 with 1 Axes>"
      ]
     },
     "metadata": {},
     "output_type": "display_data"
    }
   ],
   "source": [
    "fig, ax = plt.subplots()\n",
    "\n",
    "energies_plot = energies[find_QN_indices(QN, J = 1), :]\n",
    "\n",
    "ax.plot(Bzs,energies_plot.T/(1e6), c = 'C0');\n",
    "ax.set_xlabel('Ez / V/cm')\n",
    "ax.set_ylabel('Energy / MHz')"
   ]
  },
  {
   "cell_type": "markdown",
   "id": "fa563120-a03e-4c05-bdc1-e8330d877fb6",
   "metadata": {},
   "source": [
    "### Check isotropicity\n",
    "The direction of the electric field should not matter for the energies."
   ]
  },
  {
   "cell_type": "code",
   "execution_count": 17,
   "id": "03a8a465-0bdf-43e1-9748-ba4a995689e3",
   "metadata": {},
   "outputs": [],
   "source": [
    "Es = np.linspace(-1000,1000,101)\n",
    "energies_x = np.empty((len(QN), len(Es)))\n",
    "energies_y = np.empty((len(QN), len(Es)))\n",
    "energies_z = np.empty((len(QN), len(Es)))\n",
    "for i, E in enumerate(Es):\n",
    "    energies_x[:,i], _ = np.linalg.eigh(H_E(np.array([E,0,0])))\n",
    "    energies_y[:,i], _ = np.linalg.eigh(H_E(np.array([0,E,0])))\n",
    "    energies_z[:,i], _ = np.linalg.eigh(H_E(np.array([0,0,E])))\n",
    "    "
   ]
  },
  {
   "cell_type": "code",
   "execution_count": 18,
   "id": "f4ed717b-f8c3-41e0-b386-a3bd8e4b7298",
   "metadata": {},
   "outputs": [
    {
     "data": {
      "text/plain": [
       "True"
      ]
     },
     "execution_count": 18,
     "metadata": {},
     "output_type": "execute_result"
    }
   ],
   "source": [
    "np.allclose(energies_x, energies_y)"
   ]
  },
  {
   "cell_type": "code",
   "execution_count": 19,
   "id": "e5e83e18-4508-4395-8789-b1702acbf05b",
   "metadata": {},
   "outputs": [
    {
     "data": {
      "text/plain": [
       "True"
      ]
     },
     "execution_count": 19,
     "metadata": {},
     "output_type": "execute_result"
    }
   ],
   "source": [
    "np.allclose(energies_x, energies_z)"
   ]
  }
 ],
 "metadata": {
  "kernelspec": {
   "display_name": "Python 3 (ipykernel)",
   "language": "python",
   "name": "python3"
  },
  "language_info": {
   "codemirror_mode": {
    "name": "ipython",
    "version": 3
   },
   "file_extension": ".py",
   "mimetype": "text/x-python",
   "name": "python",
   "nbconvert_exporter": "python",
   "pygments_lexer": "ipython3",
   "version": "3.10.4"
  }
 },
 "nbformat": 4,
 "nbformat_minor": 5
}
